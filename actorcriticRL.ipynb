{
 "cells": [
  {
   "cell_type": "code",
   "execution_count": 1,
   "metadata": {
    "id": "AUnmVsYMTTB8"
   },
   "outputs": [],
   "source": [
    "import tensorflow as tf\n",
    "from tensorflow.keras import layers\n",
    "import tensorflow_probability as tfp\n",
    "from tensorflow.keras import backend\n",
    "from tensorflow.keras.models import Model\n",
    "from tensorflow.keras.optimizers import Adam"
   ]
  },
  {
   "cell_type": "code",
   "execution_count": 2,
   "metadata": {
    "id": "QSdNQvGL1Jnc"
   },
   "outputs": [],
   "source": [
    "import matplotlib.pyplot as plt\n",
    "import numpy \n",
    "import gym\n",
    "\n",
    "# for version issues\n",
    "import warnings\n",
    "warnings.filterwarnings(\"ignore\")"
   ]
  },
  {
   "cell_type": "code",
   "execution_count": 7,
   "metadata": {
    "id": "BRqoIuvU1ON8"
   },
   "outputs": [],
   "source": [
    "class ActorCriticNetLayers(Model):\n",
    "\n",
    "    def __init__(self, n_actions):\n",
    "        super(ActorCriticNetLayers, self).__init__()\n",
    "        self.n_actions = n_actions\n",
    "        self.hidden1 = layers.Dense(1024, activation='relu')\n",
    "        self.hidden2 = layers.Dense(512, activation='relu')\n",
    "        self.hidden3 = layers.Dense(256, activation='relu')\n",
    "        self.hidden4 = layers.Dense(128, activation='relu')\n",
    "        self.in_ = layers.Dense(1, activation=None)\n",
    "        self.out_ = layers.Dense(n_actions, activation='softmax')\n",
    "\n",
    "    def call(self, state):\n",
    "        x = self.hidden1(state)\n",
    "        x = self.hidden2(x)\n",
    "        x = self.hidden3(x)\n",
    "        x = self.hidden4(x)\n",
    "        x = self.in_(x)\n",
    "        y = self.out_(x)\n",
    "        return x, y\n",
    "\n",
    "class ActorCritic: \n",
    "\n",
    "    def __init__ (self, alpha, beta, in_shape, n_actions):\n",
    "        self.alpha = alpha\n",
    "        self.beta = beta\n",
    "        self.in_shape = in_shape\n",
    "        self.n_actions = n_actions\n",
    "        self.gamma = .998\n",
    "        self.actions_space = [i for i in range(self.n_actions)]\n",
    "        self.actor_critic = ActorCriticNetLayers(n_actions=self.n_actions)\n",
    "        self.actor_critic.compile(optimizer=Adam(learning_rate=self.alpha))\n",
    "\n",
    "    def select_action(self, obs):\n",
    "        state = tf.convert_to_tensor([obs])\n",
    "        _, probs = self.actor_critic(state)\n",
    "        action_probs = tfp.distributions.Categorical(probs=probs)\n",
    "        action = action_probs.sample()\n",
    "        self.action = action\n",
    "        action = action.numpy()[0]\n",
    "        return action\n",
    "\n",
    "    def train(self, state, reward, new_state, done):\n",
    "        x = int(done)\n",
    "        state = tf.convert_to_tensor([state], dtype=tf.float32)\n",
    "        new_state = tf.convert_to_tensor([new_state], dtype=tf.float32)\n",
    "        reward = tf.convert_to_tensor(reward, dtype=tf.float32)\n",
    "\n",
    "        with tf.GradientTape(persistent=True) as t:\n",
    "            state_value, probs = self.actor_critic(state)\n",
    "            new_state_value, _ = self.actor_critic(new_state)\n",
    "            state_value = tf.squeeze(state_value)\n",
    "            new_state_value = tf.squeeze(new_state_value)\n",
    "            action_probs = tfp.distributions.Categorical(probs=probs)\n",
    "            log_prob = action_probs.log_prob(self.action)\n",
    "            d = reward + self.gamma*new_state_value*(1-x) - state_value\n",
    "            actor_loss = -log_prob*d\n",
    "            critic_loss = d**2\n",
    "            x = actor_loss + critic_loss\n",
    "\n",
    "        p = self.actor_critic.trainable_variables\n",
    "        g = t.gradient(x, p)\n",
    "        self.actor_critic.optimizer.apply_gradients(zip(g, p))\n",
    "\n",
    "\n",
    "def visualizations(rewards_per_eps):\n",
    "    eps, rewards = list(), list()\n",
    "    for item in rewards_per_eps:\n",
    "      ep, re = abs(item[0]), abs(item[1])\n",
    "      eps.append(ep)\n",
    "      rewards.append(re)\n",
    "\n",
    "    plt.plot(eps, rewards)\n",
    "    plt.title('Rewards per Episode')\n",
    "    plt.xlabel('Episode #')\n",
    "    plt.ylabel('Reward (Cummultive)')\n",
    "    plt.show()\n",
    "\n"
   ]
  },
  {
   "cell_type": "markdown",
   "metadata": {
    "id": "8RTVXg5bTlq3"
   },
   "source": [
    "Part 1"
   ]
  },
  {
   "cell_type": "code",
   "execution_count": 8,
   "metadata": {
    "colab": {
     "base_uri": "https://localhost:8080/",
     "height": 312
    },
    "id": "u2r0rJQdTjbP",
    "outputId": "59874d4c-a23e-465c-cb6c-66a9e6c6e9de"
   },
   "outputs": [
    {
     "name": "stdout",
     "output_type": "stream",
     "text": [
      "Part I\n"
     ]
    },
    {
     "data": {
      "image/png": "[encoded data removed]",
      "text/plain": [
       "<Figure size 432x288 with 1 Axes>"
      ]
     },
     "metadata": {
      "needs_background": "light"
     },
     "output_type": "display_data"
    }
   ],
   "source": [
    "# main loop \n",
    "if __name__ == '__main__':\n",
    "\n",
    "  # env\n",
    "  env = gym.make(\"CartPole-v1\") \n",
    "\n",
    "  alpha, beta = .00001, .00005\n",
    "  n_actions = 2\n",
    "  in_shape = 4\n",
    "\n",
    "  Agent = ActorCritic(alpha, beta, in_shape, n_actions)\n",
    "\n",
    "  rewards_eps_1 = list()\n",
    "  r = 0\n",
    "  eps = 10\n",
    "\n",
    "  for i in range(eps):\n",
    "\n",
    "    done = False\n",
    "    obs = env.reset()\n",
    "\n",
    "    while not done:\n",
    "\n",
    "      action = Agent.select_action(obs)\n",
    "      new_obs, reward, done, info = env.step(action)\n",
    "\n",
    "      Agent.train(obs, reward, new_obs, done)\n",
    "\n",
    "      obs = new_obs\n",
    "    \n",
    "    r += reward\n",
    "\n",
    "    rewards_eps_1.append((i, r))\n",
    "\n",
    "  print('Part I')\n",
    "  visualizations(rewards_eps_1)"
   ]
  },
  {
   "cell_type": "markdown",
   "metadata": {
    "id": "CwB7FzWOTqOb"
   },
   "source": [
    "Part 2"
   ]
  },
  {
   "cell_type": "markdown",
   "metadata": {
    "id": "USQn3msyWNkL"
   },
   "source": [
    "a"
   ]
  },
  {
   "cell_type": "code",
   "execution_count": 5,
   "metadata": {
    "colab": {
     "base_uri": "https://localhost:8080/",
     "height": 312
    },
    "id": "PEy4nhyDTtAZ",
    "outputId": "6c2cc585-2132-4b55-da64-fcdf9c2d93d5"
   },
   "outputs": [
    {
     "name": "stdout",
     "output_type": "stream",
     "text": [
      "Part II(a)\n"
     ]
    },
    {
     "data": {
      "image/png": "[encoded data removed]",
      "text/plain": [
       "<Figure size 432x288 with 1 Axes>"
      ]
     },
     "metadata": {
      "needs_background": "light"
     },
     "output_type": "display_data"
    }
   ],
   "source": [
    "# main loop \n",
    "if __name__ == '__main__':\n",
    "\n",
    "  # env\n",
    "  env = gym.make(\"Acrobot-v1\") \n",
    "\n",
    "  alpha, beta = .00001, .00005\n",
    "  n_actions = 3\n",
    "  in_shape = 6\n",
    "  \n",
    "  Agent = ActorCritic(alpha, beta, in_shape, n_actions)\n",
    "\n",
    "  rewards_eps_2a = list()\n",
    "  r = 0\n",
    "  eps = 10\n",
    "\n",
    "  for i in range(eps):\n",
    "\n",
    "    done = False\n",
    "    obs = env.reset()\n",
    "\n",
    "    while not done:\n",
    "\n",
    "      action = Agent.select_action(obs)\n",
    "      new_obs, reward, done, info = env.step(action)\n",
    "\n",
    "      Agent.train(obs, reward, new_obs, done)\n",
    "\n",
    "      obs = new_obs\n",
    "    \n",
    "    r += reward\n",
    "\n",
    "    rewards_eps_2a.append((i, r))\n",
    "\n",
    "  print('Part II(a)')\n",
    "  visualizations(rewards_eps_2a)"
   ]
  },
  {
   "cell_type": "markdown",
   "metadata": {
    "id": "n33F7eLPWPe8"
   },
   "source": [
    "b"
   ]
  },
  {
   "cell_type": "code",
   "execution_count": 6,
   "metadata": {
    "colab": {
     "base_uri": "https://localhost:8080/",
     "height": 312
    },
    "id": "XriqB2p9WP44",
    "outputId": "bfc8bcbc-5ea5-46f8-ad68-06e206c2b6f7"
   },
   "outputs": [
    {
     "name": "stdout",
     "output_type": "stream",
     "text": [
      "Part II(b)\n"
     ]
    },
    {
     "data": {
      "image/png": "[encoded data removed]",
      "text/plain": [
       "<Figure size 432x288 with 1 Axes>"
      ]
     },
     "metadata": {
      "needs_background": "light"
     },
     "output_type": "display_data"
    }
   ],
   "source": [
    "# main loop \n",
    "if __name__ == '__main__':\n",
    "\n",
    "  # env\n",
    "  env = gym.make(\"LunarLander-v2\")\n",
    "\n",
    "  alpha, beta = .00001, .00005\n",
    "  n_actions = 4\n",
    "  in_shape = 8\n",
    "\n",
    "  Agent = ActorCritic(alpha, beta, in_shape, n_actions)\n",
    "\n",
    "  rewards_eps_2b = list()\n",
    "  r = 0\n",
    "  eps = 10\n",
    "\n",
    "  for i in range(eps):\n",
    "\n",
    "    done = False\n",
    "    obs = env.reset()\n",
    "\n",
    "    while not done:\n",
    "\n",
    "      action = Agent.select_action(obs)\n",
    "      new_obs, reward, done, info = env.step(action)\n",
    "\n",
    "      Agent.train(obs, reward, new_obs, done)\n",
    "\n",
    "      obs = new_obs\n",
    "\n",
    "    r += reward\n",
    "\n",
    "    rewards_eps_2b.append((i, r))\n",
    "\n",
    "  print('Part II(b)')\n",
    "  visualizations(rewards_eps_2b)"
   ]
  }
 ],
 "metadata": {
  "colab": {
   "collapsed_sections": [],
   "provenance": []
  },
  "kernelspec": {
   "display_name": "Python 3 (ipykernel)",
   "language": "python",
   "name": "python3"
  },
  "language_info": {
   "codemirror_mode": {
    "name": "ipython",
    "version": 3
   },
   "file_extension": ".py",
   "mimetype": "text/x-python",
   "name": "python",
   "nbconvert_exporter": "python",
   "pygments_lexer": "ipython3",
   "version": "3.10.7"
  }
 },
 "nbformat": 4,
 "nbformat_minor": 1
}
